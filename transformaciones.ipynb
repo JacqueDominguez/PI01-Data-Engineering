{
 "cells": [
  {
   "cell_type": "code",
   "execution_count": 63,
   "metadata": {},
   "outputs": [],
   "source": [
    "# Importamos las librerias necesarias\n",
    "import pandas as pd\n",
    "import numpy as np"
   ]
  },
  {
   "cell_type": "code",
   "execution_count": 64,
   "metadata": {},
   "outputs": [],
   "source": [
    "# Extraccion de los datos de los distintos csv\n",
    "amazon = pd.read_csv(r\"D:\\Desktop\\GIT\\PI01-Data-Engineering\\Datasets\\amazon_prime_titles-score.csv\")\n",
    "disney= pd.read_csv(r\"D:\\Desktop\\GIT\\PI01-Data-Engineering\\Datasets\\disney_plus_titles-score.csv\")\n",
    "hulu= pd.read_csv(r\"D:\\Desktop\\GIT\\PI01-Data-Engineering\\Datasets\\hulu_titles-score (2).csv\")\n",
    "netflix= pd.read_csv(r\"D:\\Desktop\\GIT\\PI01-Data-Engineering\\Datasets\\netflix_titles-score.csv\")"
   ]
  },
  {
   "cell_type": "code",
   "execution_count": 65,
   "metadata": {},
   "outputs": [],
   "source": [
    "#Transformación de los datos.\n",
    "#Generar campo id con la primer letra del nombre de la plataforma seguido del campo show_id\n",
    "amazon. insert (loc = 0 , column = 'id', value= \"a\"+ amazon['show_id'])\n",
    "disney. insert (loc = 0 , column = 'id', value= \"d\"+ disney['show_id'])\n",
    "hulu. insert (loc = 0 , column = 'id', value= \"h\"+ hulu['show_id'])\n",
    "netflix. insert (loc = 0 , column = 'id', value= \"n\"+ netflix['show_id'])\n"
   ]
  },
  {
   "cell_type": "code",
   "execution_count": 51,
   "metadata": {},
   "outputs": [],
   "source": [
    "#2- Reemplazar valores nulos en el campo rating por \"G\"\n",
    "amazon['rating'].fillna('G', inplace=True)\n",
    "disney['rating'].fillna('G', inplace=True)\n",
    "hulu['rating'].fillna('G', inplace=True)\n",
    "netflix['rating'].fillna('G', inplace=True)\n"
   ]
  },
  {
   "cell_type": "code",
   "execution_count": 53,
   "metadata": {},
   "outputs": [],
   "source": [
    "# 3-Convertir las fechas en formato AAAA-mm-dd\n",
    "amazon['date_added'] = pd.to_datetime(amazon['date_added'])\n",
    "disney['date_added'] = pd.to_datetime(disney['date_added'])\n",
    "hulu['date_added'] = pd.to_datetime(hulu['date_added'])\n",
    "netflix['date_added'] = pd.to_datetime(netflix['date_added'])"
   ]
  },
  {
   "cell_type": "code",
   "execution_count": 55,
   "metadata": {},
   "outputs": [],
   "source": [
    "# Convertir los campos de texto a minúscula\n",
    "col=[\"type\",\"title\",\"director\",\"cast\",\"country\",\"rating\",\"duration\",\"listed_in\", \"description\"]\n",
    "\n",
    "for i in col:\n",
    "    amazon[i]=amazon[i].str.lower()\n",
    "    disney[i]=disney[i].str.lower()\n",
    "    hulu[i]=hulu[i].astype(str)\n",
    "    hulu[i]=hulu[i].str.lower()\n",
    "    netflix[i]=netflix[i].str.lower()"
   ]
  },
  {
   "cell_type": "code",
   "execution_count": 56,
   "metadata": {},
   "outputs": [],
   "source": [
    "# Unificar el valor season \n",
    "amazon['duration'].replace(\"seasons\",\"season\", inplace=True, regex=True)\n",
    "disney['duration'].replace(\"seasons\",\"season\", inplace=True, regex=True)\n",
    "hulu['duration'].replace(\"seasons\",\"season\", inplace=True, regex=True)\n",
    "netflix['duration'].replace(\"seasons\",\"season\", inplace=True, regex=True)\n",
    "\n",
    "# Separar la columna duration en 2 nuevas columnas duration_int y duration_type \n",
    "amazon[['duration_int','duration_type']]=amazon.duration.str.split(' ',expand=True)\n",
    "disney[['duration_int','duration_type']]=disney.duration.str.split(' ',expand=True)\n",
    "hulu[['duration_int','duration_type']]=hulu.duration.str.split(' ',expand=True)\n",
    "netflix[['duration_int','duration_type']]=netflix.duration.str.split(' ',expand=True)\n",
    "\n",
    "#Cambiar el tipo de dato para la columna duration_int\n",
    "amazon['duration_int'] = amazon['duration_int'].astype('int64')\n",
    "disney['duration_int'] = disney['duration_int'].astype('int64')"
   ]
  },
  {
   "cell_type": "code",
   "execution_count": 57,
   "metadata": {},
   "outputs": [],
   "source": [
    "#Para cambiar el tipo de dato para la columna duration_int en hulu es necesario reemplazar los valores 'nan'\n",
    "hulu['duration_int'].replace(\"nan\",\"1\", inplace=True, regex=True)\n",
    "hulu['duration_int'] = hulu['duration_int'].astype('int64')"
   ]
  },
  {
   "cell_type": "code",
   "execution_count": 58,
   "metadata": {},
   "outputs": [],
   "source": [
    "#Para cambiar el tipo de dato para la columna duration_int en Netflix es necesario reemplazar los valores nulos\n",
    "netflix['duration_int'].fillna('1', inplace=True)\n",
    "netflix['duration_int'] = netflix['duration_int'].astype('int64')"
   ]
  },
  {
   "cell_type": "code",
   "execution_count": 60,
   "metadata": {},
   "outputs": [
    {
     "name": "stdout",
     "output_type": "stream",
     "text": [
      "<class 'pandas.core.frame.DataFrame'>\n",
      "Int64Index: 22998 entries, 0 to 8806\n",
      "Data columns (total 16 columns):\n",
      " #   Column         Non-Null Count  Dtype         \n",
      "---  ------         --------------  -----         \n",
      " 0   id             22998 non-null  object        \n",
      " 1   show_id        22998 non-null  object        \n",
      " 2   type           22998 non-null  object        \n",
      " 3   title          22998 non-null  object        \n",
      " 4   director       17809 non-null  object        \n",
      " 5   cast           20750 non-null  object        \n",
      " 6   country        12952 non-null  object        \n",
      " 7   date_added     13444 non-null  datetime64[ns]\n",
      " 8   release_year   22998 non-null  int64         \n",
      " 9   rating         22998 non-null  object        \n",
      " 10  duration       22995 non-null  object        \n",
      " 11  listed_in      22998 non-null  object        \n",
      " 12  description    22998 non-null  object        \n",
      " 13  score          22998 non-null  int64         \n",
      " 14  duration_int   22998 non-null  int64         \n",
      " 15  duration_type  22516 non-null  object        \n",
      "dtypes: datetime64[ns](1), int64(3), object(12)\n",
      "memory usage: 3.0+ MB\n"
     ]
    }
   ],
   "source": [
    "#Apilar los dataframes\n",
    "data = pd.concat([amazon, disney,hulu,netflix], axis=0)\n",
    "data.info()"
   ]
  },
  {
   "cell_type": "code",
   "execution_count": 62,
   "metadata": {},
   "outputs": [],
   "source": [
    "data.to_csv('data.csv', index=False , encoding='utf-8') #Exportamos el csv que usaremos en la siguente etapa"
   ]
  }
 ],
 "metadata": {
  "kernelspec": {
   "display_name": "Python 3",
   "language": "python",
   "name": "python3"
  },
  "language_info": {
   "codemirror_mode": {
    "name": "ipython",
    "version": 3
   },
   "file_extension": ".py",
   "mimetype": "text/x-python",
   "name": "python",
   "nbconvert_exporter": "python",
   "pygments_lexer": "ipython3",
   "version": "3.10.6 (tags/v3.10.6:9c7b4bd, Aug  1 2022, 21:53:49) [MSC v.1932 64 bit (AMD64)]"
  },
  "orig_nbformat": 4,
  "vscode": {
   "interpreter": {
    "hash": "76d7c06053c3456e5600312cec90888656fc0ed30c03d8425b9dac6e4fc8e014"
   }
  }
 },
 "nbformat": 4,
 "nbformat_minor": 2
}
